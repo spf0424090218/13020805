{
  "nbformat": 4,
  "nbformat_minor": 0,
  "metadata": {
    "colab": {
      "name": "ML Ass2.Code.ipynb",
      "provenance": [],
      "collapsed_sections": [],
      "include_colab_link": true
    },
    "kernelspec": {
      "name": "python3",
      "display_name": "Python 3"
    },
    "accelerator": "GPU"
  },
  "cells": [
    {
      "cell_type": "markdown",
      "metadata": {
        "id": "view-in-github",
        "colab_type": "text"
      },
      "source": [
        "<a href=\"https://colab.research.google.com/github/spf0424090218/13020805/blob/master/ML_Ass2_Code.ipynb\" target=\"_parent\"><img src=\"https://colab.research.google.com/assets/colab-badge.svg\" alt=\"Open In Colab\"/></a>"
      ]
    },
    {
      "cell_type": "code",
      "metadata": {
        "id": "bFeh_Kyrs_qV",
        "colab_type": "code",
        "outputId": "4266b558-d51e-44ce-c790-7efc5bde6488",
        "colab": {
          "base_uri": "https://localhost:8080/",
          "height": 222
        }
      },
      "source": [
        "!apt-get install -y -qq software-properties-common python-software-properties module-init-tools\n",
        "!add-apt-repository -y ppa:alessandro-strada/ppa 2>&1 > /dev/null\n",
        "!apt-get update -qq 2>&1 > /dev/null\n",
        "!apt-get -y install -qq google-drive-ocamlfuse fuse\n",
        "from google.colab import auth\n",
        "auth.authenticate_user()\n",
        "from oauth2client.client import GoogleCredentials\n",
        "creds = GoogleCredentials.get_application_default()\n",
        "import getpass\n",
        "!google-drive-ocamlfuse -headless -id={creds.client_id} -secret={creds.client_secret} < /dev/null 2>&1 | grep URL\n",
        "vcode = getpass.getpass()\n",
        "!echo {vcode} | google-drive-ocamlfuse -headless -id={creds.client_id} -secret={creds.client_secret}"
      ],
      "execution_count": 0,
      "outputs": [
        {
          "output_type": "stream",
          "text": [
            "E: Package 'python-software-properties' has no installation candidate\n",
            "Selecting previously unselected package google-drive-ocamlfuse.\n",
            "(Reading database ... 131183 files and directories currently installed.)\n",
            "Preparing to unpack .../google-drive-ocamlfuse_0.7.13-0ubuntu1~ubuntu18.04.1_amd64.deb ...\n",
            "Unpacking google-drive-ocamlfuse (0.7.13-0ubuntu1~ubuntu18.04.1) ...\n",
            "Setting up google-drive-ocamlfuse (0.7.13-0ubuntu1~ubuntu18.04.1) ...\n",
            "Processing triggers for man-db (2.8.3-2ubuntu0.1) ...\n",
            "Please, open the following URL in a web browser: https://accounts.google.com/o/oauth2/auth?client_id=32555940559.apps.googleusercontent.com&redirect_uri=urn%3Aietf%3Awg%3Aoauth%3A2.0%3Aoob&scope=https%3A%2F%2Fwww.googleapis.com%2Fauth%2Fdrive&response_type=code&access_type=offline&approval_prompt=force\n",
            "··········\n",
            "Please, open the following URL in a web browser: https://accounts.google.com/o/oauth2/auth?client_id=32555940559.apps.googleusercontent.com&redirect_uri=urn%3Aietf%3Awg%3Aoauth%3A2.0%3Aoob&scope=https%3A%2F%2Fwww.googleapis.com%2Fauth%2Fdrive&response_type=code&access_type=offline&approval_prompt=force\n",
            "Please enter the verification code: Access token retrieved correctly.\n"
          ],
          "name": "stdout"
        }
      ]
    },
    {
      "cell_type": "code",
      "metadata": {
        "id": "6frFQpTktmGA",
        "colab_type": "code",
        "colab": {}
      },
      "source": [
        "!mkdir -p Spf\n",
        "!google-drive-ocamlfuse Spf"
      ],
      "execution_count": 0,
      "outputs": []
    },
    {
      "cell_type": "code",
      "metadata": {
        "id": "eMs2IUxuG-s1",
        "colab_type": "code",
        "outputId": "aeab251e-6cf7-41f9-b895-0405ccfc2673",
        "colab": {
          "base_uri": "https://localhost:8080/",
          "height": 299
        }
      },
      "source": [
        "import pandas as pd\n",
        "import numpy as np\n",
        "import matplotlib.pyplot as plt\n",
        "nba = pd.read_csv('Spf/Colab Notebooks/nba_2013.csv')\n",
        "nba.head(5)"
      ],
      "execution_count": 0,
      "outputs": [
        {
          "output_type": "execute_result",
          "data": {
            "text/html": [
              "<div>\n",
              "<style scoped>\n",
              "    .dataframe tbody tr th:only-of-type {\n",
              "        vertical-align: middle;\n",
              "    }\n",
              "\n",
              "    .dataframe tbody tr th {\n",
              "        vertical-align: top;\n",
              "    }\n",
              "\n",
              "    .dataframe thead th {\n",
              "        text-align: right;\n",
              "    }\n",
              "</style>\n",
              "<table border=\"1\" class=\"dataframe\">\n",
              "  <thead>\n",
              "    <tr style=\"text-align: right;\">\n",
              "      <th></th>\n",
              "      <th>player</th>\n",
              "      <th>pos</th>\n",
              "      <th>age</th>\n",
              "      <th>bref_team_id</th>\n",
              "      <th>g</th>\n",
              "      <th>gs</th>\n",
              "      <th>mp</th>\n",
              "      <th>fg</th>\n",
              "      <th>fga</th>\n",
              "      <th>fg.</th>\n",
              "      <th>x3p</th>\n",
              "      <th>x3pa</th>\n",
              "      <th>x3p.</th>\n",
              "      <th>x2p</th>\n",
              "      <th>x2pa</th>\n",
              "      <th>x2p.</th>\n",
              "      <th>efg.</th>\n",
              "      <th>ft</th>\n",
              "      <th>fta</th>\n",
              "      <th>ft.</th>\n",
              "      <th>orb</th>\n",
              "      <th>drb</th>\n",
              "      <th>trb</th>\n",
              "      <th>ast</th>\n",
              "      <th>stl</th>\n",
              "      <th>blk</th>\n",
              "      <th>tov</th>\n",
              "      <th>pf</th>\n",
              "      <th>pts</th>\n",
              "      <th>season</th>\n",
              "      <th>season_end</th>\n",
              "    </tr>\n",
              "  </thead>\n",
              "  <tbody>\n",
              "    <tr>\n",
              "      <th>0</th>\n",
              "      <td>Quincy Acy</td>\n",
              "      <td>SF</td>\n",
              "      <td>23</td>\n",
              "      <td>TOT</td>\n",
              "      <td>63</td>\n",
              "      <td>0</td>\n",
              "      <td>847</td>\n",
              "      <td>66</td>\n",
              "      <td>141</td>\n",
              "      <td>0.468</td>\n",
              "      <td>4</td>\n",
              "      <td>15</td>\n",
              "      <td>0.266667</td>\n",
              "      <td>62</td>\n",
              "      <td>126</td>\n",
              "      <td>0.492063</td>\n",
              "      <td>0.482</td>\n",
              "      <td>35</td>\n",
              "      <td>53</td>\n",
              "      <td>0.660</td>\n",
              "      <td>72</td>\n",
              "      <td>144</td>\n",
              "      <td>216</td>\n",
              "      <td>28</td>\n",
              "      <td>23</td>\n",
              "      <td>26</td>\n",
              "      <td>30</td>\n",
              "      <td>122</td>\n",
              "      <td>171</td>\n",
              "      <td>2013-2014</td>\n",
              "      <td>2013</td>\n",
              "    </tr>\n",
              "    <tr>\n",
              "      <th>1</th>\n",
              "      <td>Steven Adams</td>\n",
              "      <td>C</td>\n",
              "      <td>20</td>\n",
              "      <td>OKC</td>\n",
              "      <td>81</td>\n",
              "      <td>20</td>\n",
              "      <td>1197</td>\n",
              "      <td>93</td>\n",
              "      <td>185</td>\n",
              "      <td>0.503</td>\n",
              "      <td>0</td>\n",
              "      <td>0</td>\n",
              "      <td>NaN</td>\n",
              "      <td>93</td>\n",
              "      <td>185</td>\n",
              "      <td>0.502703</td>\n",
              "      <td>0.503</td>\n",
              "      <td>79</td>\n",
              "      <td>136</td>\n",
              "      <td>0.581</td>\n",
              "      <td>142</td>\n",
              "      <td>190</td>\n",
              "      <td>332</td>\n",
              "      <td>43</td>\n",
              "      <td>40</td>\n",
              "      <td>57</td>\n",
              "      <td>71</td>\n",
              "      <td>203</td>\n",
              "      <td>265</td>\n",
              "      <td>2013-2014</td>\n",
              "      <td>2013</td>\n",
              "    </tr>\n",
              "    <tr>\n",
              "      <th>2</th>\n",
              "      <td>Jeff Adrien</td>\n",
              "      <td>PF</td>\n",
              "      <td>27</td>\n",
              "      <td>TOT</td>\n",
              "      <td>53</td>\n",
              "      <td>12</td>\n",
              "      <td>961</td>\n",
              "      <td>143</td>\n",
              "      <td>275</td>\n",
              "      <td>0.520</td>\n",
              "      <td>0</td>\n",
              "      <td>0</td>\n",
              "      <td>NaN</td>\n",
              "      <td>143</td>\n",
              "      <td>275</td>\n",
              "      <td>0.520000</td>\n",
              "      <td>0.520</td>\n",
              "      <td>76</td>\n",
              "      <td>119</td>\n",
              "      <td>0.639</td>\n",
              "      <td>102</td>\n",
              "      <td>204</td>\n",
              "      <td>306</td>\n",
              "      <td>38</td>\n",
              "      <td>24</td>\n",
              "      <td>36</td>\n",
              "      <td>39</td>\n",
              "      <td>108</td>\n",
              "      <td>362</td>\n",
              "      <td>2013-2014</td>\n",
              "      <td>2013</td>\n",
              "    </tr>\n",
              "    <tr>\n",
              "      <th>3</th>\n",
              "      <td>Arron Afflalo</td>\n",
              "      <td>SG</td>\n",
              "      <td>28</td>\n",
              "      <td>ORL</td>\n",
              "      <td>73</td>\n",
              "      <td>73</td>\n",
              "      <td>2552</td>\n",
              "      <td>464</td>\n",
              "      <td>1011</td>\n",
              "      <td>0.459</td>\n",
              "      <td>128</td>\n",
              "      <td>300</td>\n",
              "      <td>0.426667</td>\n",
              "      <td>336</td>\n",
              "      <td>711</td>\n",
              "      <td>0.472574</td>\n",
              "      <td>0.522</td>\n",
              "      <td>274</td>\n",
              "      <td>336</td>\n",
              "      <td>0.815</td>\n",
              "      <td>32</td>\n",
              "      <td>230</td>\n",
              "      <td>262</td>\n",
              "      <td>248</td>\n",
              "      <td>35</td>\n",
              "      <td>3</td>\n",
              "      <td>146</td>\n",
              "      <td>136</td>\n",
              "      <td>1330</td>\n",
              "      <td>2013-2014</td>\n",
              "      <td>2013</td>\n",
              "    </tr>\n",
              "    <tr>\n",
              "      <th>4</th>\n",
              "      <td>Alexis Ajinca</td>\n",
              "      <td>C</td>\n",
              "      <td>25</td>\n",
              "      <td>NOP</td>\n",
              "      <td>56</td>\n",
              "      <td>30</td>\n",
              "      <td>951</td>\n",
              "      <td>136</td>\n",
              "      <td>249</td>\n",
              "      <td>0.546</td>\n",
              "      <td>0</td>\n",
              "      <td>1</td>\n",
              "      <td>0.000000</td>\n",
              "      <td>136</td>\n",
              "      <td>248</td>\n",
              "      <td>0.548387</td>\n",
              "      <td>0.546</td>\n",
              "      <td>56</td>\n",
              "      <td>67</td>\n",
              "      <td>0.836</td>\n",
              "      <td>94</td>\n",
              "      <td>183</td>\n",
              "      <td>277</td>\n",
              "      <td>40</td>\n",
              "      <td>23</td>\n",
              "      <td>46</td>\n",
              "      <td>63</td>\n",
              "      <td>187</td>\n",
              "      <td>328</td>\n",
              "      <td>2013-2014</td>\n",
              "      <td>2013</td>\n",
              "    </tr>\n",
              "  </tbody>\n",
              "</table>\n",
              "</div>"
            ],
            "text/plain": [
              "          player pos  age bref_team_id  ...   pf   pts     season  season_end\n",
              "0     Quincy Acy  SF   23          TOT  ...  122   171  2013-2014        2013\n",
              "1   Steven Adams   C   20          OKC  ...  203   265  2013-2014        2013\n",
              "2    Jeff Adrien  PF   27          TOT  ...  108   362  2013-2014        2013\n",
              "3  Arron Afflalo  SG   28          ORL  ...  136  1330  2013-2014        2013\n",
              "4  Alexis Ajinca   C   25          NOP  ...  187   328  2013-2014        2013\n",
              "\n",
              "[5 rows x 31 columns]"
            ]
          },
          "metadata": {
            "tags": []
          },
          "execution_count": 6
        }
      ]
    },
    {
      "cell_type": "code",
      "metadata": {
        "id": "77zxlAamxXdM",
        "colab_type": "code",
        "outputId": "2dd5cdf1-e0c1-4f77-cf01-5c6d9e0cb95b",
        "colab": {
          "base_uri": "https://localhost:8080/",
          "height": 296
        }
      },
      "source": [
        "point_guards = nba[nba['pos'] == 'PG']\n",
        "point_guards['ppg'] = point_guards['pts'] / point_guards['g']\n",
        "point_guards[['pts', 'g', 'ppg']].head(5)"
      ],
      "execution_count": 0,
      "outputs": [
        {
          "output_type": "stream",
          "text": [
            "/usr/local/lib/python3.6/dist-packages/ipykernel_launcher.py:2: SettingWithCopyWarning: \n",
            "A value is trying to be set on a copy of a slice from a DataFrame.\n",
            "Try using .loc[row_indexer,col_indexer] = value instead\n",
            "\n",
            "See the caveats in the documentation: http://pandas.pydata.org/pandas-docs/stable/indexing.html#indexing-view-versus-copy\n",
            "  \n"
          ],
          "name": "stderr"
        },
        {
          "output_type": "execute_result",
          "data": {
            "text/html": [
              "<div>\n",
              "<style scoped>\n",
              "    .dataframe tbody tr th:only-of-type {\n",
              "        vertical-align: middle;\n",
              "    }\n",
              "\n",
              "    .dataframe tbody tr th {\n",
              "        vertical-align: top;\n",
              "    }\n",
              "\n",
              "    .dataframe thead th {\n",
              "        text-align: right;\n",
              "    }\n",
              "</style>\n",
              "<table border=\"1\" class=\"dataframe\">\n",
              "  <thead>\n",
              "    <tr style=\"text-align: right;\">\n",
              "      <th></th>\n",
              "      <th>pts</th>\n",
              "      <th>g</th>\n",
              "      <th>ppg</th>\n",
              "    </tr>\n",
              "  </thead>\n",
              "  <tbody>\n",
              "    <tr>\n",
              "      <th>24</th>\n",
              "      <td>930</td>\n",
              "      <td>71</td>\n",
              "      <td>13.098592</td>\n",
              "    </tr>\n",
              "    <tr>\n",
              "      <th>29</th>\n",
              "      <td>150</td>\n",
              "      <td>20</td>\n",
              "      <td>7.500000</td>\n",
              "    </tr>\n",
              "    <tr>\n",
              "      <th>30</th>\n",
              "      <td>660</td>\n",
              "      <td>79</td>\n",
              "      <td>8.354430</td>\n",
              "    </tr>\n",
              "    <tr>\n",
              "      <th>38</th>\n",
              "      <td>666</td>\n",
              "      <td>72</td>\n",
              "      <td>9.250000</td>\n",
              "    </tr>\n",
              "    <tr>\n",
              "      <th>50</th>\n",
              "      <td>378</td>\n",
              "      <td>55</td>\n",
              "      <td>6.872727</td>\n",
              "    </tr>\n",
              "  </tbody>\n",
              "</table>\n",
              "</div>"
            ],
            "text/plain": [
              "    pts   g        ppg\n",
              "24  930  71  13.098592\n",
              "29  150  20   7.500000\n",
              "30  660  79   8.354430\n",
              "38  666  72   9.250000\n",
              "50  378  55   6.872727"
            ]
          },
          "metadata": {
            "tags": []
          },
          "execution_count": 7
        }
      ]
    },
    {
      "cell_type": "code",
      "metadata": {
        "id": "2gtFqZ4D7klO",
        "colab_type": "code",
        "outputId": "79131529-3c72-41a5-ebac-7a247a08de1f",
        "colab": {
          "base_uri": "https://localhost:8080/",
          "height": 317
        }
      },
      "source": [
        "point_guards = point_guards[point_guards['tov'] != 0]\n",
        "point_guards['atr'] = point_guards['ast'] / point_guards['tov']\n",
        "plt.scatter(point_guards['ppg'], point_guards['atr'], c='y')\n",
        "plt.title(\"Point Guards\")\n",
        "plt.xlabel('Points Per Game', fontsize=15)\n",
        "plt.ylabel('Assist Turnover Ratio', fontsize=15)"
      ],
      "execution_count": 0,
      "outputs": [
        {
          "output_type": "execute_result",
          "data": {
            "text/plain": [
              "Text(0, 0.5, 'Assist Turnover Ratio')"
            ]
          },
          "metadata": {
            "tags": []
          },
          "execution_count": 8
        },
        {
          "output_type": "display_data",
          "data": {
            "image/png": "[encoded data removed]",
            "text/plain": [
              "<Figure size 432x288 with 1 Axes>"
            ]
          },
          "metadata": {
            "tags": []
          }
        }
      ]
    },
    {
      "cell_type": "code",
      "metadata": {
        "id": "w-8J6RQjS80V",
        "colab_type": "code",
        "outputId": "c61e7019-f9c5-4a63-87b2-55c6ea5fab32",
        "colab": {
          "base_uri": "https://localhost:8080/",
          "height": 450
        }
      },
      "source": [
        "#Step 1\n",
        "#随机生成五个点\n",
        "num_clusters = 5\n",
        "random_initial_points = np.random.choice(point_guards.index, size=num_clusters)\n",
        "centroids = point_guards.ix[random_initial_points]\n",
        "\n",
        "#可视化初始聚类中心，中心用红色，其他点用黄色\n",
        "plt.scatter(point_guards['ppg'], point_guards['atr'], c='yellow')\n",
        "plt.scatter(centroids['ppg'], centroids['atr'], c='red')\n",
        "plt.title(\"Centroids\")\n",
        "plt.xlabel('Points Per Game', fontsize=13)\n",
        "plt.ylabel('Assist Turnover Ratio', fontsize=13)"
      ],
      "execution_count": 0,
      "outputs": [
        {
          "output_type": "stream",
          "text": [
            "/usr/local/lib/python3.6/dist-packages/ipykernel_launcher.py:3: DeprecationWarning: \n",
            ".ix is deprecated. Please use\n",
            ".loc for label based indexing or\n",
            ".iloc for positional indexing\n",
            "\n",
            "See the documentation here:\n",
            "http://pandas.pydata.org/pandas-docs/stable/indexing.html#ix-indexer-is-deprecated\n",
            "  This is separate from the ipykernel package so we can avoid doing imports until\n"
          ],
          "name": "stderr"
        },
        {
          "output_type": "execute_result",
          "data": {
            "text/plain": [
              "Text(0, 0.5, 'Assist Turnover Ratio')"
            ]
          },
          "metadata": {
            "tags": []
          },
          "execution_count": 9
        },
        {
          "output_type": "display_data",
          "data": {
            "image/png": "[encoded data removed]",
            "text/plain": [
              "<Figure size 432x288 with 1 Axes>"
            ]
          },
          "metadata": {
            "tags": []
          }
        }
      ]
    },
    {
      "cell_type": "code",
      "metadata": {
        "id": "ocYrBXqD2-av",
        "colab_type": "code",
        "outputId": "85af8fcf-353c-4169-d2c6-06e700fffd22",
        "colab": {
          "base_uri": "https://localhost:8080/",
          "height": 286
        }
      },
      "source": [
        "\n",
        "#然后将中心点转化为一个字典格式，字典的键是这个簇的名称，字典的值是这个中心点的信息（”ppg”,”atr”）\n",
        "def centroids_to_dict(centroids):\n",
        "    dictionary = dict()\n",
        "    # counter作为字典的键值，自增\n",
        "    counter = 0\n",
        "\n",
        "    # iterate a pandas data frame row-wise using .iterrows()\n",
        "    for index, row in centroids.iterrows():\n",
        "        coordinates = [row['ppg'], row['atr']] #list对象\n",
        "        dictionary[counter] = coordinates\n",
        "        counter += 1\n",
        "\n",
        "    return dictionary\n",
        "\n",
        "centroids_dict = centroids_to_dict(centroids)\n",
        "\n",
        "\n",
        "#再然后就是计算每个点到聚类中心的距离然后将每个点的聚类中心修改为离其最近的那个簇\n",
        "import math\n",
        "# 计算两个点距离的函数\n",
        "def calculate_distance(centroid, player_values): # 参数都是list对象\n",
        "    root_distance = 0    \n",
        "    for x in range(0, len(centroid)):\n",
        "        difference = centroid[x] - player_values[x]\n",
        "        squared_difference = difference**2\n",
        "        root_distance += squared_difference\n",
        "\n",
        "    euclid_distance = math.sqrt(root_distance)\n",
        "    return euclid_distance\n",
        "# 返回离每个点最近的簇的键\n",
        "def assign_to_cluster(row):\n",
        "    lowest_distance = -1\n",
        "    closest_cluster = -1  \n",
        "    for cluster_id, centroid in centroids_dict.items():\n",
        "        df_row = [row['ppg'], row['atr']]\n",
        "        euclidean_distance = calculate_distance(centroid, df_row)\n",
        "\n",
        "        if lowest_distance == -1:\n",
        "            lowest_distance = euclidean_distance\n",
        "            closest_cluster = cluster_id \n",
        "        elif euclidean_distance < lowest_distance:\n",
        "            lowest_distance = euclidean_distance\n",
        "            closest_cluster = cluster_id\n",
        "    return closest_cluster\n",
        "\n",
        "# 生成一个新的属性cluster：存储每个节点所属的簇的键值\n",
        "point_guards['cluster'] = point_guards.apply(lambda row: assign_to_cluster(row), axis=1)\n",
        "\n",
        "\n",
        "#上面根据随机初始化的簇及其键值，将其它的点分配给这些簇。可视化第一次随机初始化的聚类图，将不同的簇用不同的颜色表示出来：\n",
        "def visualize_clusters(df, num_clusters):\n",
        "    colors = ['b', 'g', 'r', 'c', 'm', 'y', 'k']\n",
        "\n",
        "    for n in range(num_clusters):\n",
        "        clustered_df = df[df['cluster'] == n]\n",
        "        plt.scatter(clustered_df['ppg'], clustered_df['atr'], c=colors[n-1])\n",
        "        plt.xlabel('Points Per Game', fontsize=13)\n",
        "        plt.ylabel('Assist Turnover Ratio', fontsize=13)\n",
        "\n",
        "visualize_clusters(point_guards, 5)\n",
        "\n",
        "\n",
        "\n",
        "\n",
        "\n",
        "\n"
      ],
      "execution_count": 0,
      "outputs": [
        {
          "output_type": "display_data",
          "data": {
            "image/png": "[encoded data removed]",
            "text/plain": [
              "<Figure size 432x288 with 1 Axes>"
            ]
          },
          "metadata": {
            "tags": []
          }
        }
      ]
    },
    {
      "cell_type": "code",
      "metadata": {
        "id": "0ldDAO5yKxXu",
        "colab_type": "code",
        "colab": {}
      },
      "source": [
        "#Step 2\n",
        "#将所有点分配给离其最近的簇，需要调整簇中心，重新计算簇的中心点\n",
        "# 计算簇中心\n",
        "def recalculate_centroids(df):\n",
        "    new_centroids_dict = dict()\n",
        "\n",
        "    for cluster_id in range(0, num_clusters):\n",
        "        values_in_cluster = df[df['cluster'] == cluster_id]\n",
        "        # Calculate new centroid using mean of values in the cluster\n",
        "        new_centroid = [np.average(values_in_cluster['ppg']), np.average(values_in_cluster['atr'])]\n",
        "        new_centroids_dict[cluster_id] = new_centroid\n",
        "    return new_centroids_dict\n",
        "\n",
        "centroids_dict = recalculate_centroids(point_guards)\n"
      ],
      "execution_count": 0,
      "outputs": []
    },
    {
      "cell_type": "code",
      "metadata": {
        "id": "3U-BBEOyNYtR",
        "colab_type": "code",
        "outputId": "4f3cf476-98d2-439f-ba84-90c74ca7cfa9",
        "colab": {
          "base_uri": "https://localhost:8080/",
          "height": 286
        }
      },
      "source": [
        "#Repeat Step 1(Second times)\n",
        "point_guards['cluster'] = point_guards.apply(lambda row: assign_to_cluster(row), axis=1)\n",
        "visualize_clusters(point_guards, num_clusters)"
      ],
      "execution_count": 0,
      "outputs": [
        {
          "output_type": "display_data",
          "data": {
            "image/png": "[encoded data removed]",
            "text/plain": [
              "<Figure size 432x288 with 1 Axes>"
            ]
          },
          "metadata": {
            "tags": []
          }
        }
      ]
    },
    {
      "cell_type": "code",
      "metadata": {
        "id": "CbWlS2eVNqT_",
        "colab_type": "code",
        "outputId": "4b1cad1a-1c86-4973-eea1-822409d27f5f",
        "colab": {
          "base_uri": "https://localhost:8080/",
          "height": 286
        }
      },
      "source": [
        "#Repeat Step 2 and Step 1(Third Times)\n",
        "centroids_dict = recalculate_centroids(point_guards)\n",
        "point_guards['cluster'] = point_guards.apply(lambda row: assign_to_cluster(row), axis=1)\n",
        "visualize_clusters(point_guards, num_clusters)\n"
      ],
      "execution_count": 0,
      "outputs": [
        {
          "output_type": "display_data",
          "data": {
            "image/png": "[encoded data removed]",
            "text/plain": [
              "<Figure size 432x288 with 1 Axes>"
            ]
          },
          "metadata": {
            "tags": []
          }
        }
      ]
    },
    {
      "cell_type": "code",
      "metadata": {
        "id": "GR-5e04Xlgwy",
        "colab_type": "code",
        "colab": {}
      },
      "source": [
        ""
      ],
      "execution_count": 0,
      "outputs": []
    },
    {
      "cell_type": "code",
      "metadata": {
        "id": "53hctNIEi8Sq",
        "colab_type": "code",
        "outputId": "7642e9c9-f98b-45c0-b702-284a410e552d",
        "colab": {
          "base_uri": "https://localhost:8080/",
          "height": 286
        }
      },
      "source": [
        "#Repeat Step 2 and Step 1(Fourth Times)\n",
        "centroids_dict = recalculate_centroids(point_guards)\n",
        "point_guards['cluster'] = point_guards.apply(lambda row: assign_to_cluster(row), axis=1)\n",
        "visualize_clusters(point_guards, num_clusters)"
      ],
      "execution_count": 0,
      "outputs": [
        {
          "output_type": "display_data",
          "data": {
            "image/png": "[encoded data removed]",
            "text/plain": [
              "<Figure size 432x288 with 1 Axes>"
            ]
          },
          "metadata": {
            "tags": []
          }
        }
      ]
    },
    {
      "cell_type": "code",
      "metadata": {
        "id": "GY6iJwjDjOBO",
        "colab_type": "code",
        "outputId": "a0974136-2804-441e-d05a-65631b35dda4",
        "colab": {
          "base_uri": "https://localhost:8080/",
          "height": 286
        }
      },
      "source": [
        "#Repeat Step 2 and Step 1(Fifth Times)\n",
        "centroids_dict = recalculate_centroids(point_guards)\n",
        "point_guards['cluster'] = point_guards.apply(lambda row: assign_to_cluster(row), axis=1)\n",
        "visualize_clusters(point_guards, num_clusters)"
      ],
      "execution_count": 0,
      "outputs": [
        {
          "output_type": "display_data",
          "data": {
            "image/png": "[encoded data removed]",
            "text/plain": [
              "<Figure size 432x288 with 1 Axes>"
            ]
          },
          "metadata": {
            "tags": []
          }
        }
      ]
    },
    {
      "cell_type": "code",
      "metadata": {
        "id": "qG9K83SKjRnI",
        "colab_type": "code",
        "outputId": "916f8afe-67bf-4c88-efb5-e42e66c56f40",
        "colab": {
          "base_uri": "https://localhost:8080/",
          "height": 286
        }
      },
      "source": [
        "#Repeat Step 2 and Step 1(Sixth Times)\n",
        "centroids_dict = recalculate_centroids(point_guards)\n",
        "point_guards['cluster'] = point_guards.apply(lambda row: assign_to_cluster(row), axis=1)\n",
        "visualize_clusters(point_guards, num_clusters)"
      ],
      "execution_count": 0,
      "outputs": [
        {
          "output_type": "display_data",
          "data": {
            "image/png": "[encoded data removed]",
            "text/plain": [
              "<Figure size 432x288 with 1 Axes>"
            ]
          },
          "metadata": {
            "tags": []
          }
        }
      ]
    },
    {
      "cell_type": "code",
      "metadata": {
        "id": "DjR3Yt5XjRmV",
        "colab_type": "code",
        "outputId": "95945413-2db8-4950-894d-2c5a12174649",
        "colab": {
          "base_uri": "https://localhost:8080/",
          "height": 286
        }
      },
      "source": [
        "#Repeat Step 2 and Step 1(Seventh Time)\n",
        "centroids_dict = recalculate_centroids(point_guards)\n",
        "point_guards['cluster'] = point_guards.apply(lambda row: assign_to_cluster(row), axis=1)\n",
        "visualize_clusters(point_guards, num_clusters)"
      ],
      "execution_count": 0,
      "outputs": [
        {
          "output_type": "display_data",
          "data": {
            "image/png": "[encoded data removed]",
            "text/plain": [
              "<Figure size 432x288 with 1 Axes>"
            ]
          },
          "metadata": {
            "tags": []
          }
        }
      ]
    },
    {
      "cell_type": "code",
      "metadata": {
        "id": "mCiZxQ5HlkJO",
        "colab_type": "code",
        "outputId": "82e8340b-4ea1-484a-8c1b-54f7d9c254aa",
        "colab": {
          "base_uri": "https://localhost:8080/",
          "height": 286
        }
      },
      "source": [
        "#Repeat Step 2 and Step 1(Eighth Time)\n",
        "centroids_dict = recalculate_centroids(point_guards)\n",
        "point_guards['cluster'] = point_guards.apply(lambda row: assign_to_cluster(row), axis=1)\n",
        "visualize_clusters(point_guards, num_clusters)"
      ],
      "execution_count": 0,
      "outputs": [
        {
          "output_type": "display_data",
          "data": {
            "image/png": "[encoded data removed]",
            "text/plain": [
              "<Figure size 432x288 with 1 Axes>"
            ]
          },
          "metadata": {
            "tags": []
          }
        }
      ]
    }
  ]
}